{
  "nbformat": 4,
  "nbformat_minor": 0,
  "metadata": {
    "colab": {
      "name": "MTADataCollector.ipynb",
      "provenance": [],
      "mount_file_id": "1AQDkVSpGcTH_h2dNXQiS3kxzYoXZVsO8",
      "authorship_tag": "ABX9TyOE2HeEQs91xQ9dwaO+3T3w",
      "include_colab_link": true
    },
    "kernelspec": {
      "name": "python3",
      "display_name": "Python 3"
    }
  },
  "cells": [
    {
      "cell_type": "markdown",
      "metadata": {
        "id": "view-in-github",
        "colab_type": "text"
      },
      "source": [
        "<a href=\"https://colab.research.google.com/github/ernclb4/mta-visualization/blob/master/MTADataCollector.ipynb\" target=\"_parent\"><img src=\"https://colab.research.google.com/assets/colab-badge.svg\" alt=\"Open In Colab\"/></a>"
      ]
    },
    {
      "cell_type": "code",
      "metadata": {
        "id": "Dj-i4J3fJSP_",
        "colab_type": "code",
        "outputId": "bc48bff1-f874-45d2-c7e3-ca4aa626824e",
        "colab": {
          "base_uri": "https://localhost:8080/",
          "height": 71
        }
      },
      "source": [
        "import pandas as pd\n",
        "from datetime import datetime, timedelta, time\n",
        "import numpy as np\n",
        "from scipy.ndimage.interpolation import shift\n",
        "from collections import defaultdict\n",
        "import seaborn as sns\n",
        "import sys"
      ],
      "execution_count": 0,
      "outputs": [
        {
          "output_type": "stream",
          "text": [
            "/usr/local/lib/python3.6/dist-packages/statsmodels/tools/_testing.py:19: FutureWarning: pandas.util.testing is deprecated. Use the functions in the public API at pandas.testing instead.\n",
            "  import pandas.util.testing as tm\n"
          ],
          "name": "stderr"
        }
      ]
    },
    {
      "cell_type": "code",
      "metadata": {
        "id": "OhXN489JJTV3",
        "colab_type": "code",
        "colab": {}
      },
      "source": [
        "def datelist(startdate):\n",
        "    \"\"\"\n",
        "    For a given Saturday, make a list of dates for the 14 previous Saturdays\n",
        "    Modify the range() function to get more or less weeks\n",
        "    \"\"\"\n",
        "    week_list = [startdate + ((timedelta(days=-7))*i) for i in range(1)]\n",
        "    clean_weeks = [i.strftime('%y%m%d') for i in week_list]\n",
        "    return clean_weeks"
      ],
      "execution_count": 0,
      "outputs": []
    },
    {
      "cell_type": "code",
      "metadata": {
        "id": "Y8TyBCukJaLs",
        "colab_type": "code",
        "outputId": "b6ca7b69-8fb0-487a-e996-bcdd6512b75d",
        "colab": {
          "base_uri": "https://localhost:8080/",
          "height": 34
        }
      },
      "source": [
        "#For now we are importing the last 4 months in 2020\n",
        "start20 = datetime(2020, 2, 22)\n",
        "weeks_to_import = datelist(start20)\n",
        "\n",
        "def loadturndata(date):\n",
        "    # Build the filename\n",
        "    strdate = str(date)\n",
        "    filename = 'http://web.mta.info/developers/data/nyct/turnstile/turnstile_'+strdate+'.txt'\n",
        "\n",
        "    # Read in the csv\n",
        "    df = pd.read_csv(filename)\n",
        "    return df\n",
        "\n",
        "def loadturnlist(dates):\n",
        "    \"\"\"\n",
        "    We'll iterarte through the list of weeks to create dataframes using loadturndata and then concat together into one dataframe\n",
        "    \"\"\"\n",
        "    data = pd.DataFrame()\n",
        "    x = []\n",
        "    b = 0\n",
        "    for i in dates:\n",
        "        b += 1\n",
        "        print(str((b/len(dates))*100) + 'Done')\n",
        "        df = (loadturndata(i))\n",
        "        x.append(df)\n",
        "    data = pd.concat(x)\n",
        "    return data\n",
        "\n",
        "raw = loadturnlist(weeks_to_import)\n",
        "raw.to_pickle('/raw_turnstile_data.pkl')\n",
        "raw = pd.read_pickle('/raw_turnstile_data.pkl')\n",
        "\n"
      ],
      "execution_count": 0,
      "outputs": [
        {
          "output_type": "stream",
          "text": [
            "100.0Done\n"
          ],
          "name": "stdout"
        }
      ]
    },
    {
      "cell_type": "code",
      "metadata": {
        "id": "PQwqV0AuKEKp",
        "colab_type": "code",
        "colab": {}
      },
      "source": [
        "# Rename columns\n",
        "df = raw.rename(columns=lambda x: x.strip().lower())\n",
        "\n",
        "# Concat date and time and convert to datetime object\n",
        "df['datetime'] = df['date'] + ' ' + df['time']\n",
        "df['datetime_clean'] = [datetime.strptime(x, '%m/%d/%Y %H:%M:%S') for x in df['datetime']]\n",
        "\n",
        "# Add some helpful date-part columns\n",
        "df['year'] = [x.year for x in df['datetime_clean']]\n",
        "df['weekday'] = df[['datetime_clean']].apply(lambda x: datetime.strftime(x['datetime_clean'], '%A'), axis=1)\n",
        "\n",
        "# Create group ID for distinct turnstiles\n",
        "df['group'] = df['c/a'].astype(str) + \\\n",
        "              df['unit'].astype(str) + \\\n",
        "              df['scp'].astype(str) + \\\n",
        "              df['station'].astype(str) + \\\n",
        "              df['linename'].astype(str) + \\\n",
        "              df['division'].astype(str) + \\\n",
        "              df['year'].astype(str)\n",
        "\n",
        "# Map 'group' string to integer id\n",
        "groups = set(df['group'])"
      ],
      "execution_count": 0,
      "outputs": []
    },
    {
      "cell_type": "code",
      "metadata": {
        "id": "kUoX1voLKNTF",
        "colab_type": "code",
        "colab": {}
      },
      "source": [
        "def groups_dict(groups):\n",
        "    group_dict = defaultdict(int)\n",
        "    for i in enumerate(list(groups)):\n",
        "        group_dict[i[1]] = i[0]\n",
        "\n",
        "    return group_dict"
      ],
      "execution_count": 0,
      "outputs": []
    },
    {
      "cell_type": "code",
      "metadata": {
        "id": "qzt5mXaNKhRn",
        "colab_type": "code",
        "outputId": "2a760ddb-6d5a-4183-daf3-e069ecb35989",
        "colab": {
          "base_uri": "https://localhost:8080/",
          "height": 779
        }
      },
      "source": [
        "group_id_dict = groups_dict(groups)\n",
        "\n",
        "df['group_id'] = [group_id_dict[x] for x in df['group']]\n",
        "\n",
        "# Create station ID for distinct stations\n",
        "df['station_line'] = df['station'].astype(str) + \\\n",
        "                df['linename'].astype(str)\n",
        "\n",
        "# Sort values by group id and date to find diff in turnstile counts from prev row\n",
        "df.sort_values(['group_id','datetime_clean'], inplace=True)\n",
        "df.reset_index(drop=True)"
      ],
      "execution_count": 0,
      "outputs": [
        {
          "output_type": "execute_result",
          "data": {
            "text/html": [
              "<div>\n",
              "<style scoped>\n",
              "    .dataframe tbody tr th:only-of-type {\n",
              "        vertical-align: middle;\n",
              "    }\n",
              "\n",
              "    .dataframe tbody tr th {\n",
              "        vertical-align: top;\n",
              "    }\n",
              "\n",
              "    .dataframe thead th {\n",
              "        text-align: right;\n",
              "    }\n",
              "</style>\n",
              "<table border=\"1\" class=\"dataframe\">\n",
              "  <thead>\n",
              "    <tr style=\"text-align: right;\">\n",
              "      <th></th>\n",
              "      <th>c/a</th>\n",
              "      <th>unit</th>\n",
              "      <th>scp</th>\n",
              "      <th>station</th>\n",
              "      <th>linename</th>\n",
              "      <th>division</th>\n",
              "      <th>date</th>\n",
              "      <th>time</th>\n",
              "      <th>desc</th>\n",
              "      <th>entries</th>\n",
              "      <th>exits</th>\n",
              "      <th>datetime</th>\n",
              "      <th>datetime_clean</th>\n",
              "      <th>year</th>\n",
              "      <th>weekday</th>\n",
              "      <th>group</th>\n",
              "      <th>group_id</th>\n",
              "      <th>station_line</th>\n",
              "    </tr>\n",
              "  </thead>\n",
              "  <tbody>\n",
              "    <tr>\n",
              "      <th>0</th>\n",
              "      <td>N191</td>\n",
              "      <td>R335</td>\n",
              "      <td>00-05-01</td>\n",
              "      <td>BEACH 67 ST</td>\n",
              "      <td>A</td>\n",
              "      <td>IND</td>\n",
              "      <td>02/15/2020</td>\n",
              "      <td>03:00:00</td>\n",
              "      <td>REGULAR</td>\n",
              "      <td>0</td>\n",
              "      <td>0</td>\n",
              "      <td>02/15/2020 03:00:00</td>\n",
              "      <td>2020-02-15 03:00:00</td>\n",
              "      <td>2020</td>\n",
              "      <td>Saturday</td>\n",
              "      <td>N191R33500-05-01BEACH 67 STAIND2020</td>\n",
              "      <td>0</td>\n",
              "      <td>BEACH 67 STA</td>\n",
              "    </tr>\n",
              "    <tr>\n",
              "      <th>1</th>\n",
              "      <td>N191</td>\n",
              "      <td>R335</td>\n",
              "      <td>00-05-01</td>\n",
              "      <td>BEACH 67 ST</td>\n",
              "      <td>A</td>\n",
              "      <td>IND</td>\n",
              "      <td>02/15/2020</td>\n",
              "      <td>07:00:00</td>\n",
              "      <td>REGULAR</td>\n",
              "      <td>0</td>\n",
              "      <td>0</td>\n",
              "      <td>02/15/2020 07:00:00</td>\n",
              "      <td>2020-02-15 07:00:00</td>\n",
              "      <td>2020</td>\n",
              "      <td>Saturday</td>\n",
              "      <td>N191R33500-05-01BEACH 67 STAIND2020</td>\n",
              "      <td>0</td>\n",
              "      <td>BEACH 67 STA</td>\n",
              "    </tr>\n",
              "    <tr>\n",
              "      <th>2</th>\n",
              "      <td>N191</td>\n",
              "      <td>R335</td>\n",
              "      <td>00-05-01</td>\n",
              "      <td>BEACH 67 ST</td>\n",
              "      <td>A</td>\n",
              "      <td>IND</td>\n",
              "      <td>02/15/2020</td>\n",
              "      <td>11:00:00</td>\n",
              "      <td>REGULAR</td>\n",
              "      <td>0</td>\n",
              "      <td>0</td>\n",
              "      <td>02/15/2020 11:00:00</td>\n",
              "      <td>2020-02-15 11:00:00</td>\n",
              "      <td>2020</td>\n",
              "      <td>Saturday</td>\n",
              "      <td>N191R33500-05-01BEACH 67 STAIND2020</td>\n",
              "      <td>0</td>\n",
              "      <td>BEACH 67 STA</td>\n",
              "    </tr>\n",
              "    <tr>\n",
              "      <th>3</th>\n",
              "      <td>N191</td>\n",
              "      <td>R335</td>\n",
              "      <td>00-05-01</td>\n",
              "      <td>BEACH 67 ST</td>\n",
              "      <td>A</td>\n",
              "      <td>IND</td>\n",
              "      <td>02/15/2020</td>\n",
              "      <td>15:00:00</td>\n",
              "      <td>REGULAR</td>\n",
              "      <td>0</td>\n",
              "      <td>0</td>\n",
              "      <td>02/15/2020 15:00:00</td>\n",
              "      <td>2020-02-15 15:00:00</td>\n",
              "      <td>2020</td>\n",
              "      <td>Saturday</td>\n",
              "      <td>N191R33500-05-01BEACH 67 STAIND2020</td>\n",
              "      <td>0</td>\n",
              "      <td>BEACH 67 STA</td>\n",
              "    </tr>\n",
              "    <tr>\n",
              "      <th>4</th>\n",
              "      <td>N191</td>\n",
              "      <td>R335</td>\n",
              "      <td>00-05-01</td>\n",
              "      <td>BEACH 67 ST</td>\n",
              "      <td>A</td>\n",
              "      <td>IND</td>\n",
              "      <td>02/15/2020</td>\n",
              "      <td>19:00:00</td>\n",
              "      <td>REGULAR</td>\n",
              "      <td>0</td>\n",
              "      <td>0</td>\n",
              "      <td>02/15/2020 19:00:00</td>\n",
              "      <td>2020-02-15 19:00:00</td>\n",
              "      <td>2020</td>\n",
              "      <td>Saturday</td>\n",
              "      <td>N191R33500-05-01BEACH 67 STAIND2020</td>\n",
              "      <td>0</td>\n",
              "      <td>BEACH 67 STA</td>\n",
              "    </tr>\n",
              "    <tr>\n",
              "      <th>...</th>\n",
              "      <td>...</td>\n",
              "      <td>...</td>\n",
              "      <td>...</td>\n",
              "      <td>...</td>\n",
              "      <td>...</td>\n",
              "      <td>...</td>\n",
              "      <td>...</td>\n",
              "      <td>...</td>\n",
              "      <td>...</td>\n",
              "      <td>...</td>\n",
              "      <td>...</td>\n",
              "      <td>...</td>\n",
              "      <td>...</td>\n",
              "      <td>...</td>\n",
              "      <td>...</td>\n",
              "      <td>...</td>\n",
              "      <td>...</td>\n",
              "      <td>...</td>\n",
              "    </tr>\n",
              "    <tr>\n",
              "      <th>206178</th>\n",
              "      <td>N025</td>\n",
              "      <td>R102</td>\n",
              "      <td>01-00-04</td>\n",
              "      <td>125 ST</td>\n",
              "      <td>ACBD</td>\n",
              "      <td>IND</td>\n",
              "      <td>02/21/2020</td>\n",
              "      <td>07:00:00</td>\n",
              "      <td>REGULAR</td>\n",
              "      <td>9535127</td>\n",
              "      <td>4018548</td>\n",
              "      <td>02/21/2020 07:00:00</td>\n",
              "      <td>2020-02-21 07:00:00</td>\n",
              "      <td>2020</td>\n",
              "      <td>Friday</td>\n",
              "      <td>N025R10201-00-04125 STACBDIND2020</td>\n",
              "      <td>4916</td>\n",
              "      <td>125 STACBD</td>\n",
              "    </tr>\n",
              "    <tr>\n",
              "      <th>206179</th>\n",
              "      <td>N025</td>\n",
              "      <td>R102</td>\n",
              "      <td>01-00-04</td>\n",
              "      <td>125 ST</td>\n",
              "      <td>ACBD</td>\n",
              "      <td>IND</td>\n",
              "      <td>02/21/2020</td>\n",
              "      <td>11:00:00</td>\n",
              "      <td>REGULAR</td>\n",
              "      <td>9535692</td>\n",
              "      <td>4018660</td>\n",
              "      <td>02/21/2020 11:00:00</td>\n",
              "      <td>2020-02-21 11:00:00</td>\n",
              "      <td>2020</td>\n",
              "      <td>Friday</td>\n",
              "      <td>N025R10201-00-04125 STACBDIND2020</td>\n",
              "      <td>4916</td>\n",
              "      <td>125 STACBD</td>\n",
              "    </tr>\n",
              "    <tr>\n",
              "      <th>206180</th>\n",
              "      <td>N025</td>\n",
              "      <td>R102</td>\n",
              "      <td>01-00-04</td>\n",
              "      <td>125 ST</td>\n",
              "      <td>ACBD</td>\n",
              "      <td>IND</td>\n",
              "      <td>02/21/2020</td>\n",
              "      <td>15:00:00</td>\n",
              "      <td>REGULAR</td>\n",
              "      <td>9535996</td>\n",
              "      <td>4018758</td>\n",
              "      <td>02/21/2020 15:00:00</td>\n",
              "      <td>2020-02-21 15:00:00</td>\n",
              "      <td>2020</td>\n",
              "      <td>Friday</td>\n",
              "      <td>N025R10201-00-04125 STACBDIND2020</td>\n",
              "      <td>4916</td>\n",
              "      <td>125 STACBD</td>\n",
              "    </tr>\n",
              "    <tr>\n",
              "      <th>206181</th>\n",
              "      <td>N025</td>\n",
              "      <td>R102</td>\n",
              "      <td>01-00-04</td>\n",
              "      <td>125 ST</td>\n",
              "      <td>ACBD</td>\n",
              "      <td>IND</td>\n",
              "      <td>02/21/2020</td>\n",
              "      <td>19:00:00</td>\n",
              "      <td>REGULAR</td>\n",
              "      <td>9536460</td>\n",
              "      <td>4018933</td>\n",
              "      <td>02/21/2020 19:00:00</td>\n",
              "      <td>2020-02-21 19:00:00</td>\n",
              "      <td>2020</td>\n",
              "      <td>Friday</td>\n",
              "      <td>N025R10201-00-04125 STACBDIND2020</td>\n",
              "      <td>4916</td>\n",
              "      <td>125 STACBD</td>\n",
              "    </tr>\n",
              "    <tr>\n",
              "      <th>206182</th>\n",
              "      <td>N025</td>\n",
              "      <td>R102</td>\n",
              "      <td>01-00-04</td>\n",
              "      <td>125 ST</td>\n",
              "      <td>ACBD</td>\n",
              "      <td>IND</td>\n",
              "      <td>02/21/2020</td>\n",
              "      <td>23:00:00</td>\n",
              "      <td>REGULAR</td>\n",
              "      <td>9536696</td>\n",
              "      <td>4019048</td>\n",
              "      <td>02/21/2020 23:00:00</td>\n",
              "      <td>2020-02-21 23:00:00</td>\n",
              "      <td>2020</td>\n",
              "      <td>Friday</td>\n",
              "      <td>N025R10201-00-04125 STACBDIND2020</td>\n",
              "      <td>4916</td>\n",
              "      <td>125 STACBD</td>\n",
              "    </tr>\n",
              "  </tbody>\n",
              "</table>\n",
              "<p>206183 rows × 18 columns</p>\n",
              "</div>"
            ],
            "text/plain": [
              "         c/a  unit  ... group_id  station_line\n",
              "0       N191  R335  ...        0  BEACH 67 STA\n",
              "1       N191  R335  ...        0  BEACH 67 STA\n",
              "2       N191  R335  ...        0  BEACH 67 STA\n",
              "3       N191  R335  ...        0  BEACH 67 STA\n",
              "4       N191  R335  ...        0  BEACH 67 STA\n",
              "...      ...   ...  ...      ...           ...\n",
              "206178  N025  R102  ...     4916    125 STACBD\n",
              "206179  N025  R102  ...     4916    125 STACBD\n",
              "206180  N025  R102  ...     4916    125 STACBD\n",
              "206181  N025  R102  ...     4916    125 STACBD\n",
              "206182  N025  R102  ...     4916    125 STACBD\n",
              "\n",
              "[206183 rows x 18 columns]"
            ]
          },
          "metadata": {
            "tags": []
          },
          "execution_count": 11
        }
      ]
    },
    {
      "cell_type": "code",
      "metadata": {
        "id": "W_lSMPVbKtPX",
        "colab_type": "code",
        "colab": {}
      },
      "source": [
        "def find_diff_prev_row(df_series_col):\n",
        "    col_array = np.array(df_series_col)\n",
        "    col_array_shifted = shift(col_array, 1, cval=np.NaN)\n",
        "    col_diff = abs(col_array - col_array_shifted)\n",
        "\n",
        "    return col_diff"
      ],
      "execution_count": 0,
      "outputs": []
    },
    {
      "cell_type": "code",
      "metadata": {
        "id": "eGVm3UOHKyCF",
        "colab_type": "code",
        "colab": {}
      },
      "source": [
        "df['entries_diff'] = find_diff_prev_row(df['entries'])\n",
        "df['exit_diff'] = find_diff_prev_row(df['exits'])"
      ],
      "execution_count": 0,
      "outputs": []
    },
    {
      "cell_type": "code",
      "metadata": {
        "id": "5HvRIvRtK1Q_",
        "colab_type": "code",
        "colab": {}
      },
      "source": [
        "# Identify first rows for each group partition to use as mask when setting invalid values to nan\n",
        "def find_first_rows_groups(df_series_col):\n",
        "    col_array = np.array(df_series_col)\n",
        "    col_array_shifted = shift(col_array, 1, cval=np.NaN)\n",
        "    first_row_mask = col_array != col_array_shifted\n",
        "\n",
        "    return first_row_mask"
      ],
      "execution_count": 0,
      "outputs": []
    },
    {
      "cell_type": "code",
      "metadata": {
        "id": "VjGW0ZAmLVqb",
        "colab_type": "code",
        "colab": {}
      },
      "source": [
        "df['first_row_group'] = find_first_rows_groups(df['group_id'])\n",
        "\n",
        "# Make entries_diff and exit_diff nan when first row in group or negative value\n",
        "df.loc[df['first_row_group'], 'entries_diff'] = None\n",
        "df.loc[df['entries_diff'] < 0, 'entries_diff'] = None\n",
        "\n",
        "df.loc[df['first_row_group'], 'exit_diff'] = None\n",
        "df.loc[df['exit_diff'] < 0, 'exit_diff'] = None"
      ],
      "execution_count": 0,
      "outputs": []
    },
    {
      "cell_type": "code",
      "metadata": {
        "id": "e_JQTpbWLYeI",
        "colab_type": "code",
        "colab": {}
      },
      "source": [
        "def find_outliers(df_series, multiple_IQR):\n",
        "    \"\"\"\n",
        "    For a series of numerical values, remove the zeros and identify the upper outliers\n",
        "    to return a mask for all outliers in series\n",
        "    \"\"\"\n",
        "    non_zeros = df_series.replace(0, None)\n",
        "\n",
        "    adjusted_IQR = (non_zeros.quantile(.75) - non_zeros.quantile(.25)) * multiple_IQR\n",
        "    outlier_lim = non_zeros.quantile(.75) + adjusted_IQR\n",
        "    print(outlier_lim)\n",
        "\n",
        "    outliers = [True if x > outlier_lim else False for x in df_series]\n",
        "\n",
        "    outlier_count = sum(outliers)\n",
        "    all_data_count = len(df_series)\n",
        "    print('{} outliers identified: {} of all data'.format(outlier_count, round(outlier_count / all_data_count, 6)))\n",
        "\n",
        "    return outliers"
      ],
      "execution_count": 0,
      "outputs": []
    },
    {
      "cell_type": "code",
      "metadata": {
        "id": "isdR9xYILc05",
        "colab_type": "code",
        "outputId": "35746fc2-eb78-4168-9068-b6f8f58859d9",
        "colab": {
          "base_uri": "https://localhost:8080/",
          "height": 136
        }
      },
      "source": [
        "print('Entries Outliers')\n",
        "df['entries_outlier'] = find_outliers(df['entries_diff'], 5)\n",
        "\n",
        "print('\\n Exit Outliers')\n",
        "df['exit_outlier'] = find_outliers(df['exit_diff'], 5)"
      ],
      "execution_count": 0,
      "outputs": [
        {
          "output_type": "stream",
          "text": [
            "Entries Outliers\n",
            "1244.0\n",
            "1255 outliers identified: 0.006087 of all data\n",
            "\n",
            " Exit Outliers\n",
            "917.0\n",
            "2836 outliers identified: 0.013755 of all data\n"
          ],
          "name": "stdout"
        }
      ]
    },
    {
      "cell_type": "code",
      "metadata": {
        "id": "C4iPn4l2LyrD",
        "colab_type": "code",
        "outputId": "a7624763-e4c3-4758-88c7-03367416df3d",
        "colab": {
          "base_uri": "https://localhost:8080/",
          "height": 136
        }
      },
      "source": [
        "print('All Data Len:', len(df))\n",
        "print('All Data Len:', len(df))\n",
        "\n",
        "clean_df = df.loc[(~df['entries_outlier'])].copy()\n",
        "print('Excluding Outliers Len:', len(clean_df))\n",
        "\n",
        "print('Keeping', round(len(clean_df)/len(df), 6))\n",
        "\n",
        "print('Null entry diffs', clean_df.entries_diff.isnull().sum())\n",
        "print('Null exit diffs', clean_df.exit_diff.isnull().sum())\n",
        "print('Clean Data len:', len(clean_df))"
      ],
      "execution_count": 0,
      "outputs": [
        {
          "output_type": "stream",
          "text": [
            "All Data Len: 206183\n",
            "All Data Len: 206183\n",
            "Excluding Outliers Len: 204928\n",
            "Keeping 0.993913\n",
            "Null entry diffs 4917\n",
            "Null exit diffs 4917\n",
            "Clean Data len: 204928\n"
          ],
          "name": "stdout"
        }
      ]
    },
    {
      "cell_type": "code",
      "metadata": {
        "id": "xTC9Bag0L-1V",
        "colab_type": "code",
        "outputId": "b85fb250-528d-4f5e-fc79-8f19a2b6e840",
        "colab": {
          "base_uri": "https://localhost:8080/",
          "height": 85
        }
      },
      "source": [
        "clean_df.dropna(subset = ['entries_diff', 'exit_diff'], how='any', inplace=True)\n",
        "\n",
        "print('Null entry diffs', clean_df.entries_diff.isnull().sum())\n",
        "print('Null exit diffs', clean_df.exit_diff.isnull().sum())\n",
        "print('Clean Data len:', len(clean_df))\n",
        "\n",
        "thrown_away = len(df) - len(clean_df)\n",
        "print(\"We're throwing away {} data points - about {} of the total\".format(thrown_away, round(thrown_away/len(df), 4)))\n"
      ],
      "execution_count": 0,
      "outputs": [
        {
          "output_type": "stream",
          "text": [
            "Null entry diffs 0\n",
            "Null exit diffs 0\n",
            "Clean Data len: 200011\n",
            "We're throwing away 6172 data points - about 0.0299 of the total\n"
          ],
          "name": "stdout"
        }
      ]
    },
    {
      "cell_type": "code",
      "metadata": {
        "id": "1c3MEjSQMEE5",
        "colab_type": "code",
        "colab": {}
      },
      "source": [
        "## Find average daily entry volume by station\n",
        "clean_df['week'] = [x.isocalendar()[1] for x in clean_df['datetime_clean']]\n",
        "clean_df['hour'] = [x.hour for x in clean_df['datetime_clean']]"
      ],
      "execution_count": 0,
      "outputs": []
    },
    {
      "cell_type": "code",
      "metadata": {
        "id": "UjIk6rmMMHCn",
        "colab_type": "code",
        "outputId": "b23bbd15-d32a-4ade-f5b7-67af038d9be0",
        "colab": {
          "base_uri": "https://localhost:8080/",
          "height": 153
        }
      },
      "source": [
        "def timebin(hour):\n",
        "    if hour == 0:\n",
        "        return 6\n",
        "    if hour <= 4:\n",
        "        return 1\n",
        "    if hour <= 8:\n",
        "        return 2\n",
        "    if hour <= 12:\n",
        "        return 3\n",
        "    if hour <= 16:\n",
        "        return 4\n",
        "    if hour <= 20:\n",
        "        return 5\n",
        "    if hour <= 24:\n",
        "        return 6\n",
        "\n",
        "\n",
        "hourgroups = {6: '8pm - 12am',\n",
        "              1: '12am - 4am',\n",
        "              2: '4am - 8am',\n",
        "              3: '8am - 12pm',\n",
        "              4: '12pm - 4pm',\n",
        "              5: '4pm - 8pm'}\n",
        "\n",
        "wkdaynbr = {'Friday': 5,\n",
        "            'Monday': 1,\n",
        "            'Saturday': 6,\n",
        "            'Sunday': 0,\n",
        "            'Thursday': 4,\n",
        "            'Tuesday': 2,\n",
        "            'Wednesday': 3}\n",
        "\n",
        "clean_df['timegroup'] = clean_df['hour'].apply(timebin)\n",
        "clean_df['timegroupstr'] = clean_df['timegroup'].map(hourgroups)\n",
        "clean_df['wkdaynbr'] = clean_df['weekday'].map(wkdaynbr)\n",
        "\n",
        "print(clean_df.head())\n",
        "clean_df.to_pickle('/cleaned_turnstile_data.pkl')"
      ],
      "execution_count": 0,
      "outputs": [
        {
          "output_type": "stream",
          "text": [
            "        c/a  unit       scp  ... timegroup timegroupstr wkdaynbr\n",
            "71477  N191  R335  00-05-01  ...         2    4am - 8am        6\n",
            "71478  N191  R335  00-05-01  ...         3   8am - 12pm        6\n",
            "71479  N191  R335  00-05-01  ...         4   12pm - 4pm        6\n",
            "71480  N191  R335  00-05-01  ...         5    4pm - 8pm        6\n",
            "71481  N191  R335  00-05-01  ...         6   8pm - 12am        6\n",
            "\n",
            "[5 rows x 28 columns]\n"
          ],
          "name": "stdout"
        }
      ]
    },
    {
      "cell_type": "code",
      "metadata": {
        "id": "t3f6hKEYMWCb",
        "colab_type": "code",
        "outputId": "c1f20ba9-6881-47fb-c8e1-d501e0be9213",
        "colab": {
          "base_uri": "https://localhost:8080/",
          "height": 671
        }
      },
      "source": [
        "# Find daily average entries per station\n",
        "stations_day = clean_df.groupby(['station_line', 'date']).sum()\n",
        "stations_day.reset_index(inplace=True)\n",
        "\n",
        "daily_avg = stations_day.groupby('station_line')['entries_diff'].mean()\n",
        "daily_avg.sort_values(ascending=False, inplace=True)\n",
        "sns.distplot(daily_avg, hist=True, kde=True)\n",
        "\n",
        "print(daily_avg.head(20))\n",
        "print(type(daily_avg))\n",
        "\n",
        "pd.Series.to_csv(daily_avg, '/DailyAverageEntrance.csv')\n",
        "pd.Series.to_csv(clean_df, '/AllCleanDataFrame.csv')"
      ],
      "execution_count": 0,
      "outputs": [
        {
          "output_type": "stream",
          "text": [
            "station_line\n",
            "34 ST-HERALD SQBDFMNQRW        77334.571429\n",
            "42 ST-PORT AUTHACENQRS1237W    57916.000000\n",
            "GRD CNTRL-42 ST4567S           57449.428571\n",
            "34 ST-PENN STAACE              55041.000000\n",
            "FULTON ST2345ACJZ              42767.000000\n",
            "TIMES SQ-42 ST1237ACENQRSW     42603.571429\n",
            "14 ST-UNION SQLNQR456W         37714.000000\n",
            "JKSN HT-ROOSVLTEFMR7           37079.000000\n",
            "34 ST-PENN STA123ACE           34676.142857\n",
            "59 ST COLUMBUSABCD1            33666.714286\n",
            "CANAL STJNQRZ6W                33150.000000\n",
            "86 ST456                       30881.857143\n",
            "W 4 ST-WASH SQABCDEFM          30746.714286\n",
            "47-50 STS ROCKBDFM             30583.428571\n",
            "PATH NEW WTC1                  30193.428571\n",
            "72 ST123                       28652.571429\n",
            "FLUSHING-MAIN7                 28123.857143\n",
            "57 ST-7 AVNQRW                 25516.428571\n",
            "JAY ST-METROTECACF             25477.857143\n",
            "96 ST123                       25393.714286\n",
            "Name: entries_diff, dtype: float64\n",
            "<class 'pandas.core.series.Series'>\n"
          ],
          "name": "stdout"
        },
        {
          "output_type": "display_data",
          "data": {
            "image/png": "[encoded data removed]",
            "text/plain": [
              "<Figure size 432x288 with 1 Axes>"
            ]
          },
          "metadata": {
            "tags": [],
            "needs_background": "light"
          }
        }
      ]
    }
  ]
}